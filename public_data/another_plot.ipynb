{
 "cells": [
  {
   "cell_type": "code",
   "execution_count": 2,
   "metadata": {
    "collapsed": true
   },
   "outputs": [
    {
     "data": {
      "text/plain": "<Figure size 432x288 with 0 Axes>"
     },
     "execution_count": 2,
     "metadata": {},
     "output_type": "execute_result"
    },
    {
     "data": {
      "text/plain": "<Figure size 432x288 with 0 Axes>"
     },
     "metadata": {},
     "output_type": "display_data"
    }
   ],
   "source": [
    "import matplotlib.pyplot as plt\n",
    "import numpy as np\n",
    "\n",
    "y = [22222, 22333]\n",
    "x = [2020, 2021]\n",
    "\n",
    "# plt.xticks([2020, 2021])\n",
    "# plt.bar(x, y)\n",
    "\n",
    "x = np.linspace(0, 10, 10)\n",
    "x\n",
    "\n",
    "y1 = x\n",
    "y2 = x**2\n",
    "y3 = x**3\n",
    "y4 = np.sqrt(x)\n",
    "\n",
    "plt.figure()"
   ]
  },
  {
   "cell_type": "code",
   "execution_count": 3,
   "outputs": [
    {
     "data": {
      "text/plain": "array([ 0.        ,  1.11111111,  2.22222222,  3.33333333,  4.44444444,\n        5.55555556,  6.66666667,  7.77777778,  8.88888889, 10.        ])"
     },
     "execution_count": 3,
     "metadata": {},
     "output_type": "execute_result"
    },
    {
     "data": {
      "text/plain": "<Figure size 432x288 with 4 Axes>",
      "image/png": "[encoded data removed]"
     },
     "metadata": {
      "needs_background": "light"
     },
     "output_type": "display_data"
    }
   ],
   "source": [
    "plt.subplot(2,2,1)\n",
    "plt.plot(x, y1, 'ro')\n",
    "plt.title('y1=x')\n",
    "\n",
    "plt.subplot(2,2,2)\n",
    "plt.plot(x, y2, 'g--')\n",
    "plt.title('y2=x^2')\n",
    "\n",
    "plt.subplot(2,2,3)\n",
    "plt.plot(x, y3, 'b^')\n",
    "plt.title('y2=x^3')\n",
    "\n",
    "plt.subplot(2,2,4)\n",
    "plt.plot(x, y3, 'ks')\n",
    "plt.title('y2=sqrt(x)')\n",
    "x\n"
   ],
   "metadata": {
    "collapsed": false,
    "pycharm": {
     "name": "#%%\n"
    }
   }
  }
 ],
 "metadata": {
  "kernelspec": {
   "name": "pycharm-b5e7a0e5",
   "language": "python",
   "display_name": "PyCharm (python_machine_learning)"
  },
  "language_info": {
   "codemirror_mode": {
    "name": "ipython",
    "version": 2
   },
   "file_extension": ".py",
   "mimetype": "text/x-python",
   "name": "python",
   "nbconvert_exporter": "python",
   "pygments_lexer": "ipython2",
   "version": "2.7.6"
  }
 },
 "nbformat": 4,
 "nbformat_minor": 0
}