{
 "cells": [
  {
   "cell_type": "code",
   "execution_count": 3,
   "metadata": {
    "pycharm": {
     "name": "#%%\n"
    }
   },
   "outputs": [],
   "source": [
    "from api_caller import call_api\n",
    "from public_data.api_caller import save_data\n",
    "import pandas as pd\n",
    "import os\n",
    "from matplotlib import rc\n",
    "import matplotlib.pyplot as plt\n",
    "import matplotlib.dates as mdates\n",
    "\n",
    "os.chdir(os.getcwd())\n",
    "pd.set_option('display.max_columns', 0)\n",
    "pd.set_option('display.max_rows', 0)"
   ]
  },
  {
   "cell_type": "code",
   "execution_count": 4,
   "metadata": {
    "pycharm": {
     "name": "#%%\n"
    }
   },
   "outputs": [],
   "source": [
    "df = pd.read_json('auction_price_onion_2020_2021.json')"
   ]
  },
  {
   "cell_type": "code",
   "execution_count": 9,
   "metadata": {
    "pycharm": {
     "name": "#%%\n"
    }
   },
   "outputs": [],
   "source": [
    "df['delngDe'] = pd.to_datetime(df['delngDe'], format='%Y%m%d')\n",
    "df = df.sort_values(['delngDe'], ascending=[1])\n",
    "df = df.rename({\n",
    "    'aucSeCode':'경매구분코드',\n",
    "    'aucSeNm':'경매구분코드명',\n",
    "    'catgoryNm':'부류명',\n",
    "    'cprInsttCode':'도매시장법인코드',\n",
    "    'cprMtcCode':'산지코드',\n",
    "    'prUsePrdlstCode':'법인사용품목코드',\n",
    "    'cprUsePrdlstNm':'법인사용품목명',\n",
    "    'delngDe':'경락일자',\n",
    "    'delngPrut':'거래단위량',\n",
    "    'delngQy':'거래량',\n",
    "    'insttNm':'도매시장법인명',\n",
    "    'ledgNo':'경매원표번호',\n",
    "    'rnum':'한페이지결과수',\n",
    "    'sbidPric':'거래가격',\n",
    "    'shipmntSeCode':'출하구분코드',\n",
    "    'shipmntSeNm':'출하구분명',\n",
    "    'sleSeqn':'일련번호','stdFrmlcNewCode':'포장상태코드',\n",
    "    'stdFrmlcNewNm':'포장상태명',\n",
    "    'stdMtcNewNm':'산지명',\n",
    "    'stdPrdlstCode':'품목코드',\n",
    "    'stdPrdlstNm':'품목명',\n",
    "    'stdSpciesCode':'품종코드',\n",
    "    'stdSpciesNm':'품종명',\n",
    "    'stdQlityNewCode':'등급코드',\n",
    "    'stdQlityNewNm':'등급명',\n",
    "    'stdUnitNewCode':'거래규격단위코드',\n",
    "    'stdUnitNewNm':'거래단위명',\n",
    "    'whsalMrktCode':'도매시장코드',\n",
    "    'whsalMrktNm':'도매시장명',\n",
    "    'cprMtcNm':'산지명2',\n",
    "    'sbidTime':'경매시간'},\n",
    "    axis='columns')\n"
   ]
  },
  {
   "cell_type": "code",
   "execution_count": 10,
   "metadata": {
    "pycharm": {
     "name": "#%%\n"
    }
   },
   "outputs": [
    {
     "ename": "KeyError",
     "evalue": "'delngDe'",
     "output_type": "error",
     "traceback": [
      "\u001B[0;31m---------------------------------------------------------------------------\u001B[0m",
      "\u001B[0;31mKeyError\u001B[0m                                  Traceback (most recent call last)",
      "\u001B[0;32m~/miniforge3_2/envs/tf6/lib/python3.8/site-packages/pandas/core/indexes/base.py\u001B[0m in \u001B[0;36mget_loc\u001B[0;34m(self, key, method, tolerance)\u001B[0m\n\u001B[1;32m   3079\u001B[0m             \u001B[0;32mtry\u001B[0m\u001B[0;34m:\u001B[0m\u001B[0;34m\u001B[0m\u001B[0;34m\u001B[0m\u001B[0m\n\u001B[0;32m-> 3080\u001B[0;31m                 \u001B[0;32mreturn\u001B[0m \u001B[0mself\u001B[0m\u001B[0;34m.\u001B[0m\u001B[0m_engine\u001B[0m\u001B[0;34m.\u001B[0m\u001B[0mget_loc\u001B[0m\u001B[0;34m(\u001B[0m\u001B[0mcasted_key\u001B[0m\u001B[0;34m)\u001B[0m\u001B[0;34m\u001B[0m\u001B[0;34m\u001B[0m\u001B[0m\n\u001B[0m\u001B[1;32m   3081\u001B[0m             \u001B[0;32mexcept\u001B[0m \u001B[0mKeyError\u001B[0m \u001B[0;32mas\u001B[0m \u001B[0merr\u001B[0m\u001B[0;34m:\u001B[0m\u001B[0;34m\u001B[0m\u001B[0;34m\u001B[0m\u001B[0m\n",
      "\u001B[0;32mpandas/_libs/index.pyx\u001B[0m in \u001B[0;36mpandas._libs.index.IndexEngine.get_loc\u001B[0;34m()\u001B[0m\n",
      "\u001B[0;32mpandas/_libs/index.pyx\u001B[0m in \u001B[0;36mpandas._libs.index.IndexEngine.get_loc\u001B[0;34m()\u001B[0m\n",
      "\u001B[0;32mpandas/_libs/hashtable_class_helper.pxi\u001B[0m in \u001B[0;36mpandas._libs.hashtable.PyObjectHashTable.get_item\u001B[0;34m()\u001B[0m\n",
      "\u001B[0;32mpandas/_libs/hashtable_class_helper.pxi\u001B[0m in \u001B[0;36mpandas._libs.hashtable.PyObjectHashTable.get_item\u001B[0;34m()\u001B[0m\n",
      "\u001B[0;31mKeyError\u001B[0m: 'delngDe'",
      "\nThe above exception was the direct cause of the following exception:\n",
      "\u001B[0;31mKeyError\u001B[0m                                  Traceback (most recent call last)",
      "\u001B[0;32m<ipython-input-10-ed36ed06ff65>\u001B[0m in \u001B[0;36m<module>\u001B[0;34m\u001B[0m\n\u001B[0;32m----> 1\u001B[0;31m \u001B[0mdf\u001B[0m\u001B[0;34m[\u001B[0m\u001B[0;34m'delngDe'\u001B[0m\u001B[0;34m]\u001B[0m \u001B[0;34m=\u001B[0m \u001B[0mpd\u001B[0m\u001B[0;34m.\u001B[0m\u001B[0mto_datetime\u001B[0m\u001B[0;34m(\u001B[0m\u001B[0mdf\u001B[0m\u001B[0;34m[\u001B[0m\u001B[0;34m'delngDe'\u001B[0m\u001B[0;34m]\u001B[0m\u001B[0;34m,\u001B[0m \u001B[0mformat\u001B[0m\u001B[0;34m=\u001B[0m\u001B[0;34m'%Y%m%d'\u001B[0m\u001B[0;34m)\u001B[0m\u001B[0;34m\u001B[0m\u001B[0;34m\u001B[0m\u001B[0m\n\u001B[0m\u001B[1;32m      2\u001B[0m \u001B[0mdf\u001B[0m \u001B[0;34m=\u001B[0m \u001B[0mdf\u001B[0m\u001B[0;34m.\u001B[0m\u001B[0msort_values\u001B[0m\u001B[0;34m(\u001B[0m\u001B[0;34m[\u001B[0m\u001B[0;34m'delngDe'\u001B[0m\u001B[0;34m]\u001B[0m\u001B[0;34m,\u001B[0m \u001B[0mascending\u001B[0m\u001B[0;34m=\u001B[0m\u001B[0;34m[\u001B[0m\u001B[0;36m1\u001B[0m\u001B[0;34m]\u001B[0m\u001B[0;34m)\u001B[0m\u001B[0;34m\u001B[0m\u001B[0;34m\u001B[0m\u001B[0m\n\u001B[1;32m      3\u001B[0m df = df.rename({\n\u001B[1;32m      4\u001B[0m     \u001B[0;34m'aucSeCode'\u001B[0m\u001B[0;34m:\u001B[0m\u001B[0;34m'경매구분코드'\u001B[0m\u001B[0;34m,\u001B[0m\u001B[0;34m\u001B[0m\u001B[0;34m\u001B[0m\u001B[0m\n\u001B[1;32m      5\u001B[0m     \u001B[0;34m'aucSeNm'\u001B[0m\u001B[0;34m:\u001B[0m\u001B[0;34m'경매구분코드명'\u001B[0m\u001B[0;34m,\u001B[0m\u001B[0;34m\u001B[0m\u001B[0;34m\u001B[0m\u001B[0m\n",
      "\u001B[0;32m~/miniforge3_2/envs/tf6/lib/python3.8/site-packages/pandas/core/frame.py\u001B[0m in \u001B[0;36m__getitem__\u001B[0;34m(self, key)\u001B[0m\n\u001B[1;32m   3022\u001B[0m             \u001B[0;32mif\u001B[0m \u001B[0mself\u001B[0m\u001B[0;34m.\u001B[0m\u001B[0mcolumns\u001B[0m\u001B[0;34m.\u001B[0m\u001B[0mnlevels\u001B[0m \u001B[0;34m>\u001B[0m \u001B[0;36m1\u001B[0m\u001B[0;34m:\u001B[0m\u001B[0;34m\u001B[0m\u001B[0;34m\u001B[0m\u001B[0m\n\u001B[1;32m   3023\u001B[0m                 \u001B[0;32mreturn\u001B[0m \u001B[0mself\u001B[0m\u001B[0;34m.\u001B[0m\u001B[0m_getitem_multilevel\u001B[0m\u001B[0;34m(\u001B[0m\u001B[0mkey\u001B[0m\u001B[0;34m)\u001B[0m\u001B[0;34m\u001B[0m\u001B[0;34m\u001B[0m\u001B[0m\n\u001B[0;32m-> 3024\u001B[0;31m             \u001B[0mindexer\u001B[0m \u001B[0;34m=\u001B[0m \u001B[0mself\u001B[0m\u001B[0;34m.\u001B[0m\u001B[0mcolumns\u001B[0m\u001B[0;34m.\u001B[0m\u001B[0mget_loc\u001B[0m\u001B[0;34m(\u001B[0m\u001B[0mkey\u001B[0m\u001B[0;34m)\u001B[0m\u001B[0;34m\u001B[0m\u001B[0;34m\u001B[0m\u001B[0m\n\u001B[0m\u001B[1;32m   3025\u001B[0m             \u001B[0;32mif\u001B[0m \u001B[0mis_integer\u001B[0m\u001B[0;34m(\u001B[0m\u001B[0mindexer\u001B[0m\u001B[0;34m)\u001B[0m\u001B[0;34m:\u001B[0m\u001B[0;34m\u001B[0m\u001B[0;34m\u001B[0m\u001B[0m\n\u001B[1;32m   3026\u001B[0m                 \u001B[0mindexer\u001B[0m \u001B[0;34m=\u001B[0m \u001B[0;34m[\u001B[0m\u001B[0mindexer\u001B[0m\u001B[0;34m]\u001B[0m\u001B[0;34m\u001B[0m\u001B[0;34m\u001B[0m\u001B[0m\n",
      "\u001B[0;32m~/miniforge3_2/envs/tf6/lib/python3.8/site-packages/pandas/core/indexes/base.py\u001B[0m in \u001B[0;36mget_loc\u001B[0;34m(self, key, method, tolerance)\u001B[0m\n\u001B[1;32m   3080\u001B[0m                 \u001B[0;32mreturn\u001B[0m \u001B[0mself\u001B[0m\u001B[0;34m.\u001B[0m\u001B[0m_engine\u001B[0m\u001B[0;34m.\u001B[0m\u001B[0mget_loc\u001B[0m\u001B[0;34m(\u001B[0m\u001B[0mcasted_key\u001B[0m\u001B[0;34m)\u001B[0m\u001B[0;34m\u001B[0m\u001B[0;34m\u001B[0m\u001B[0m\n\u001B[1;32m   3081\u001B[0m             \u001B[0;32mexcept\u001B[0m \u001B[0mKeyError\u001B[0m \u001B[0;32mas\u001B[0m \u001B[0merr\u001B[0m\u001B[0;34m:\u001B[0m\u001B[0;34m\u001B[0m\u001B[0;34m\u001B[0m\u001B[0m\n\u001B[0;32m-> 3082\u001B[0;31m                 \u001B[0;32mraise\u001B[0m \u001B[0mKeyError\u001B[0m\u001B[0;34m(\u001B[0m\u001B[0mkey\u001B[0m\u001B[0;34m)\u001B[0m \u001B[0;32mfrom\u001B[0m \u001B[0merr\u001B[0m\u001B[0;34m\u001B[0m\u001B[0;34m\u001B[0m\u001B[0m\n\u001B[0m\u001B[1;32m   3083\u001B[0m \u001B[0;34m\u001B[0m\u001B[0m\n\u001B[1;32m   3084\u001B[0m         \u001B[0;32mif\u001B[0m \u001B[0mtolerance\u001B[0m \u001B[0;32mis\u001B[0m \u001B[0;32mnot\u001B[0m \u001B[0;32mNone\u001B[0m\u001B[0;34m:\u001B[0m\u001B[0;34m\u001B[0m\u001B[0;34m\u001B[0m\u001B[0m\n",
      "\u001B[0;31mKeyError\u001B[0m: 'delngDe'"
     ]
    }
   ],
   "source": [
    "df.head()"
   ]
  },
  {
   "cell_type": "code",
   "execution_count": 12,
   "metadata": {
    "pycharm": {
     "name": "#%%\n"
    }
   },
   "outputs": [
    {
     "data": {
      "text/html": [
       "<div>\n",
       "<style scoped>\n",
       "    .dataframe tbody tr th:only-of-type {\n",
       "        vertical-align: middle;\n",
       "    }\n",
       "\n",
       "    .dataframe tbody tr th {\n",
       "        vertical-align: top;\n",
       "    }\n",
       "\n",
       "    .dataframe thead th {\n",
       "        text-align: right;\n",
       "    }\n",
       "</style>\n",
       "<table border=\"1\" class=\"dataframe\">\n",
       "  <thead>\n",
       "    <tr style=\"text-align: right;\">\n",
       "      <th></th>\n",
       "      <th>경매구분코드</th>\n",
       "      <th>경매구분코드명</th>\n",
       "      <th>catgoryCode</th>\n",
       "      <th>catgoryNewCode</th>\n",
       "      <th>catgoryNewNm</th>\n",
       "      <th>부류명</th>\n",
       "      <th>도매시장법인코드</th>\n",
       "      <th>cprInsttNewCode</th>\n",
       "      <th>산지코드</th>\n",
       "      <th>산지명2</th>\n",
       "      <th>경락일자</th>\n",
       "      <th>거래단위량</th>\n",
       "      <th>거래량</th>\n",
       "      <th>insttNewNm</th>\n",
       "      <th>도매시장법인명</th>\n",
       "      <th>경매원표번호</th>\n",
       "      <th>한페이지결과수</th>\n",
       "      <th>거래가격</th>\n",
       "      <th>경매시간</th>\n",
       "      <th>일련번호</th>\n",
       "      <th>포장상태코드</th>\n",
       "      <th>포장상태명</th>\n",
       "      <th>stdMgNewCode</th>\n",
       "      <th>stdMgNewNm</th>\n",
       "      <th>stdMtcNewCode</th>\n",
       "      <th>산지명</th>\n",
       "      <th>품목코드</th>\n",
       "      <th>stdPrdlstNewCode</th>\n",
       "      <th>stdPrdlstNewNm</th>\n",
       "      <th>품목명</th>\n",
       "      <th>등급코드</th>\n",
       "      <th>등급명</th>\n",
       "      <th>품종코드</th>\n",
       "      <th>stdSpciesNewCode</th>\n",
       "      <th>stdSpciesNewNm</th>\n",
       "      <th>품종명</th>\n",
       "      <th>거래규격단위코드</th>\n",
       "      <th>거래단위명</th>\n",
       "      <th>도매시장코드</th>\n",
       "      <th>whsalMrktNewCode</th>\n",
       "      <th>whsalMrktNewNm</th>\n",
       "      <th>도매시장명</th>\n",
       "      <th>cprUsePrdlstCode</th>\n",
       "      <th>법인사용품목명</th>\n",
       "      <th>출하구분코드</th>\n",
       "      <th>출하구분명</th>\n",
       "    </tr>\n",
       "  </thead>\n",
       "  <tbody>\n",
       "    <tr>\n",
       "      <th>275112</th>\n",
       "      <td>1</td>\n",
       "      <td>경매</td>\n",
       "      <td>12</td>\n",
       "      <td>12</td>\n",
       "      <td>조미채소류</td>\n",
       "      <td>조미채소류</td>\n",
       "      <td>38010102</td>\n",
       "      <td>6051105</td>\n",
       "      <td>641465</td>\n",
       "      <td>NaN</td>\n",
       "      <td>2020-01-02</td>\n",
       "      <td>1.1</td>\n",
       "      <td>106</td>\n",
       "      <td>농협창원(공)</td>\n",
       "      <td>농협창원(공)</td>\n",
       "      <td>000000000000107</td>\n",
       "      <td>289</td>\n",
       "      <td>1850</td>\n",
       "      <td>NaN</td>\n",
       "      <td>00020</td>\n",
       "      <td>1ZZ</td>\n",
       "      <td>기타</td>\n",
       "      <td>1ZZ</td>\n",
       "      <td>기타</td>\n",
       "      <td>51100</td>\n",
       "      <td>경상남도 창원시</td>\n",
       "      <td>1202</td>\n",
       "      <td>1202</td>\n",
       "      <td>대파</td>\n",
       "      <td>대파</td>\n",
       "      <td>11</td>\n",
       "      <td>특</td>\n",
       "      <td>120201</td>\n",
       "      <td>120201</td>\n",
       "      <td>대파(일반)</td>\n",
       "      <td>대파(일반)</td>\n",
       "      <td>12</td>\n",
       "      <td>kg</td>\n",
       "      <td>380101</td>\n",
       "      <td>1051102</td>\n",
       "      <td>창원팔용농산물도매시장</td>\n",
       "      <td>창원팔용도매시장</td>\n",
       "      <td>5201</td>\n",
       "      <td>대파</td>\n",
       "      <td>2.0</td>\n",
       "      <td>계통</td>\n",
       "    </tr>\n",
       "    <tr>\n",
       "      <th>275085</th>\n",
       "      <td>1</td>\n",
       "      <td>경매</td>\n",
       "      <td>12</td>\n",
       "      <td>12</td>\n",
       "      <td>조미채소류</td>\n",
       "      <td>조미채소류</td>\n",
       "      <td>38010102</td>\n",
       "      <td>6051105</td>\n",
       "      <td>641465</td>\n",
       "      <td>NaN</td>\n",
       "      <td>2020-01-02</td>\n",
       "      <td>1.2</td>\n",
       "      <td>100</td>\n",
       "      <td>농협창원(공)</td>\n",
       "      <td>농협창원(공)</td>\n",
       "      <td>000000000000101</td>\n",
       "      <td>262</td>\n",
       "      <td>1750</td>\n",
       "      <td>NaN</td>\n",
       "      <td>00010</td>\n",
       "      <td>1ZZ</td>\n",
       "      <td>기타</td>\n",
       "      <td>1ZZ</td>\n",
       "      <td>기타</td>\n",
       "      <td>51100</td>\n",
       "      <td>경상남도 창원시</td>\n",
       "      <td>1202</td>\n",
       "      <td>1202</td>\n",
       "      <td>대파</td>\n",
       "      <td>대파</td>\n",
       "      <td>11</td>\n",
       "      <td>특</td>\n",
       "      <td>120201</td>\n",
       "      <td>120201</td>\n",
       "      <td>대파(일반)</td>\n",
       "      <td>대파(일반)</td>\n",
       "      <td>12</td>\n",
       "      <td>kg</td>\n",
       "      <td>380101</td>\n",
       "      <td>1051102</td>\n",
       "      <td>창원팔용농산물도매시장</td>\n",
       "      <td>창원팔용도매시장</td>\n",
       "      <td>5201</td>\n",
       "      <td>대파</td>\n",
       "      <td>2.0</td>\n",
       "      <td>계통</td>\n",
       "    </tr>\n",
       "    <tr>\n",
       "      <th>275084</th>\n",
       "      <td>1</td>\n",
       "      <td>경매</td>\n",
       "      <td>12</td>\n",
       "      <td>12</td>\n",
       "      <td>조미채소류</td>\n",
       "      <td>조미채소류</td>\n",
       "      <td>38010101</td>\n",
       "      <td>6051115</td>\n",
       "      <td>627834</td>\n",
       "      <td>NaN</td>\n",
       "      <td>2020-01-02</td>\n",
       "      <td>1.2</td>\n",
       "      <td>100</td>\n",
       "      <td>창원청과</td>\n",
       "      <td>창원청과</td>\n",
       "      <td>2215</td>\n",
       "      <td>261</td>\n",
       "      <td>1900</td>\n",
       "      <td>2020-01-02 05:14:27</td>\n",
       "      <td>00005</td>\n",
       "      <td>1ZZ</td>\n",
       "      <td>기타</td>\n",
       "      <td>1ZZ</td>\n",
       "      <td>기타</td>\n",
       "      <td>50400</td>\n",
       "      <td>경상남도 밀양시</td>\n",
       "      <td>1202</td>\n",
       "      <td>1202</td>\n",
       "      <td>대파</td>\n",
       "      <td>대파</td>\n",
       "      <td>11</td>\n",
       "      <td>특</td>\n",
       "      <td>120201</td>\n",
       "      <td>120201</td>\n",
       "      <td>대파(일반)</td>\n",
       "      <td>대파(일반)</td>\n",
       "      <td>12</td>\n",
       "      <td>kg</td>\n",
       "      <td>380101</td>\n",
       "      <td>1051102</td>\n",
       "      <td>창원팔용농산물도매시장</td>\n",
       "      <td>창원팔용도매시장</td>\n",
       "      <td>23801</td>\n",
       "      <td>파</td>\n",
       "      <td>3.0</td>\n",
       "      <td>개별</td>\n",
       "    </tr>\n",
       "    <tr>\n",
       "      <th>275083</th>\n",
       "      <td>1</td>\n",
       "      <td>경매</td>\n",
       "      <td>12</td>\n",
       "      <td>12</td>\n",
       "      <td>조미채소류</td>\n",
       "      <td>조미채소류</td>\n",
       "      <td>38010101</td>\n",
       "      <td>6051115</td>\n",
       "      <td>627834</td>\n",
       "      <td>NaN</td>\n",
       "      <td>2020-01-02</td>\n",
       "      <td>1.2</td>\n",
       "      <td>100</td>\n",
       "      <td>창원청과</td>\n",
       "      <td>창원청과</td>\n",
       "      <td>2215</td>\n",
       "      <td>260</td>\n",
       "      <td>1900</td>\n",
       "      <td>2020-01-02 05:14:21</td>\n",
       "      <td>00004</td>\n",
       "      <td>1ZZ</td>\n",
       "      <td>기타</td>\n",
       "      <td>1ZZ</td>\n",
       "      <td>기타</td>\n",
       "      <td>50400</td>\n",
       "      <td>경상남도 밀양시</td>\n",
       "      <td>1202</td>\n",
       "      <td>1202</td>\n",
       "      <td>대파</td>\n",
       "      <td>대파</td>\n",
       "      <td>11</td>\n",
       "      <td>특</td>\n",
       "      <td>120201</td>\n",
       "      <td>120201</td>\n",
       "      <td>대파(일반)</td>\n",
       "      <td>대파(일반)</td>\n",
       "      <td>12</td>\n",
       "      <td>kg</td>\n",
       "      <td>380101</td>\n",
       "      <td>1051102</td>\n",
       "      <td>창원팔용농산물도매시장</td>\n",
       "      <td>창원팔용도매시장</td>\n",
       "      <td>23801</td>\n",
       "      <td>파</td>\n",
       "      <td>3.0</td>\n",
       "      <td>개별</td>\n",
       "    </tr>\n",
       "    <tr>\n",
       "      <th>275082</th>\n",
       "      <td>1</td>\n",
       "      <td>경매</td>\n",
       "      <td>12</td>\n",
       "      <td>12</td>\n",
       "      <td>조미채소류</td>\n",
       "      <td>조미채소류</td>\n",
       "      <td>38010101</td>\n",
       "      <td>6051115</td>\n",
       "      <td>627834</td>\n",
       "      <td>NaN</td>\n",
       "      <td>2020-01-02</td>\n",
       "      <td>1.2</td>\n",
       "      <td>100</td>\n",
       "      <td>창원청과</td>\n",
       "      <td>창원청과</td>\n",
       "      <td>2215</td>\n",
       "      <td>259</td>\n",
       "      <td>1850</td>\n",
       "      <td>2020-01-02 05:14:17</td>\n",
       "      <td>00003</td>\n",
       "      <td>1ZZ</td>\n",
       "      <td>기타</td>\n",
       "      <td>1ZZ</td>\n",
       "      <td>기타</td>\n",
       "      <td>50400</td>\n",
       "      <td>경상남도 밀양시</td>\n",
       "      <td>1202</td>\n",
       "      <td>1202</td>\n",
       "      <td>대파</td>\n",
       "      <td>대파</td>\n",
       "      <td>11</td>\n",
       "      <td>특</td>\n",
       "      <td>120201</td>\n",
       "      <td>120201</td>\n",
       "      <td>대파(일반)</td>\n",
       "      <td>대파(일반)</td>\n",
       "      <td>12</td>\n",
       "      <td>kg</td>\n",
       "      <td>380101</td>\n",
       "      <td>1051102</td>\n",
       "      <td>창원팔용농산물도매시장</td>\n",
       "      <td>창원팔용도매시장</td>\n",
       "      <td>23801</td>\n",
       "      <td>파</td>\n",
       "      <td>3.0</td>\n",
       "      <td>개별</td>\n",
       "    </tr>\n",
       "  </tbody>\n",
       "</table>\n",
       "</div>"
      ],
      "text/plain": [
       "        경매구분코드 경매구분코드명  catgoryCode  ...  법인사용품목명 출하구분코드 출하구분명\n",
       "275112       1      경매           12  ...       대파    2.0    계통\n",
       "275085       1      경매           12  ...       대파    2.0    계통\n",
       "275084       1      경매           12  ...        파    3.0    개별\n",
       "275083       1      경매           12  ...        파    3.0    개별\n",
       "275082       1      경매           12  ...        파    3.0    개별\n",
       "\n",
       "[5 rows x 46 columns]"
      ]
     },
     "execution_count": 12,
     "metadata": {},
     "output_type": "execute_result"
    }
   ],
   "source": [
    "df = df[['경락일자',\n",
    "         '거래량',\n",
    "         '거래가격','거래규격단위코드', '거래단위명', '등급명']]"
   ]
  },
  {
   "cell_type": "code",
   "execution_count": 13,
   "metadata": {
    "pycharm": {
     "name": "#%%\n"
    }
   },
   "outputs": [],
   "source": [
    "df\n",
    "df = df.set_index('경락일자')\n"
   ]
  },
  {
   "cell_type": "code",
   "execution_count": 15,
   "metadata": {
    "pycharm": {
     "name": "#%%\n"
    }
   },
   "outputs": [
    {
     "ename": "KeyError",
     "evalue": "\"None of ['경락일자'] are in the columns\"",
     "output_type": "error",
     "traceback": [
      "\u001B[0;31m---------------------------------------------------------------------------\u001B[0m",
      "\u001B[0;31mKeyError\u001B[0m                                  Traceback (most recent call last)",
      "\u001B[0;32m<ipython-input-15-d1711e886d3b>\u001B[0m in \u001B[0;36m<module>\u001B[0;34m\u001B[0m\n\u001B[0;32m----> 1\u001B[0;31m \u001B[0mdf\u001B[0m \u001B[0;34m=\u001B[0m \u001B[0mdf\u001B[0m\u001B[0;34m.\u001B[0m\u001B[0mset_index\u001B[0m\u001B[0;34m(\u001B[0m\u001B[0;34m'경락일자'\u001B[0m\u001B[0;34m)\u001B[0m\u001B[0;34m\u001B[0m\u001B[0;34m\u001B[0m\u001B[0m\n\u001B[0m\u001B[1;32m      2\u001B[0m \u001B[0;34m\u001B[0m\u001B[0m\n",
      "\u001B[0;32m~/miniforge3_2/envs/tf6/lib/python3.8/site-packages/pandas/core/frame.py\u001B[0m in \u001B[0;36mset_index\u001B[0;34m(self, keys, drop, append, inplace, verify_integrity)\u001B[0m\n\u001B[1;32m   4725\u001B[0m \u001B[0;34m\u001B[0m\u001B[0m\n\u001B[1;32m   4726\u001B[0m         \u001B[0;32mif\u001B[0m \u001B[0mmissing\u001B[0m\u001B[0;34m:\u001B[0m\u001B[0;34m\u001B[0m\u001B[0;34m\u001B[0m\u001B[0m\n\u001B[0;32m-> 4727\u001B[0;31m             \u001B[0;32mraise\u001B[0m \u001B[0mKeyError\u001B[0m\u001B[0;34m(\u001B[0m\u001B[0;34mf\"None of {missing} are in the columns\"\u001B[0m\u001B[0;34m)\u001B[0m\u001B[0;34m\u001B[0m\u001B[0;34m\u001B[0m\u001B[0m\n\u001B[0m\u001B[1;32m   4728\u001B[0m \u001B[0;34m\u001B[0m\u001B[0m\n\u001B[1;32m   4729\u001B[0m         \u001B[0;32mif\u001B[0m \u001B[0minplace\u001B[0m\u001B[0;34m:\u001B[0m\u001B[0;34m\u001B[0m\u001B[0;34m\u001B[0m\u001B[0m\n",
      "\u001B[0;31mKeyError\u001B[0m: \"None of ['경락일자'] are in the columns\""
     ]
    }
   ],
   "source": [
    "rc('font', family='AppleGothic')\n",
    "\n",
    "# plt.style.use('default')\n",
    "plt.style.use('ggplot')\n",
    "# plt.style.use('dark_background')\n",
    "\n",
    "fig, ax1 = plt.subplots()\n",
    "plt.title('2020.1 ~ 2021.3 거래량과 가격 평균')\n",
    "ax2 = ax1.twinx()\n",
    "fig.autofmt_xdate()\n",
    "gr1 = df[['거래량', '거래가격']].groupby(pd.Grouper(freq='m'))\n",
    "gr1.sum()['거래량'].plot(kind='line', ax=ax1, c='g', label='거래량')\n",
    "gr1.mean()['거래가격'].plot(kind='line', ax=ax2, c='deeppink', label='평균거래가격')\n",
    "ax1.legend(bbox_to_anchor =(0.65, 1.25), ncol = 2)\n",
    "ax2.legend(bbox_to_anchor =(1.0, 1.25), ncol = 2)"
   ]
  },
  {
   "cell_type": "code",
   "execution_count": 18,
   "metadata": {
    "pycharm": {
     "name": "#%%\n"
    }
   },
   "outputs": [
    {
     "name": "stdout",
     "output_type": "stream",
     "text": [
      "eeee\n"
     ]
    },
    {
     "data": {
      "image/png": "[encoded data removed]",
      "text/plain": [
       "<Figure size 432x288 with 2 Axes>"
      ]
     },
     "metadata": {},
     "output_type": "display_data"
    }
   ],
   "source": [
    "df2020 = df.loc['2020-01-01':'2020-03-31']\n",
    "df2021 = df.loc['2021-01-01':'2021-03-31']\n",
    "\n",
    "y = [int(df2020['거래량'].sum()),\n",
    " int(df2021['거래량'].sum())]\n",
    "x = [2020, 2021]\n",
    "\n",
    "fig, ax1 = plt.subplots()\n",
    "ax2 = ax1.twinx()\n",
    "plt.title('2020, 2021 1~3월 거래량')\n",
    "plt.xticks([2020, 2021], labels=['2020.1to3', '2021.1to3'])\n",
    "plt.bar(x, y)"
   ]
  },
  {
   "cell_type": "code",
   "execution_count": 2,
   "metadata": {},
   "outputs": [
    {
     "name": "stdout",
     "output_type": "stream",
     "text": [
      "eeefffe\n"
     ]
    }
   ],
   "source": [
    "print('eeefffe')"
   ]
  }
 ],
 "metadata": {
  "kernelspec": {
   "display_name": "PyCharm (python_machine_learning)",
   "language": "python",
   "name": "pycharm-b5e7a0e5"
  },
  "language_info": {
   "codemirror_mode": {
    "name": "ipython",
    "version": 3
   },
   "file_extension": ".py",
   "mimetype": "text/x-python",
   "name": "python",
   "nbconvert_exporter": "python",
   "pygments_lexer": "ipython3",
   "version": "3.8.8"
  }
 },
 "nbformat": 4,
 "nbformat_minor": 1
}